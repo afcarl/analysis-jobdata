{
 "metadata": {
  "name": ""
 },
 "nbformat": 3,
 "nbformat_minor": 0,
 "worksheets": [
  {
   "cells": [
    {
     "cell_type": "code",
     "collapsed": false,
     "input": [
      "import json\n",
      "import re\n",
      "import nltk\n",
      "import itertools\n",
      "import matplotlib.pyplot as plt\n",
      "import HTMLParser\n",
      "from collections import Counter\n",
      "import numpy as np\n",
      "%matplotlib inline"
     ],
     "language": "python",
     "metadata": {},
     "outputs": [],
     "prompt_number": 4
    },
    {
     "cell_type": "code",
     "collapsed": false,
     "input": [
      "# Load all data from Dice, one JSON object per line\n",
      "dice_records = open(\"../data/dice_processed/jobs.jsonlines\").readlines()\n",
      "\n",
      "def load_json_save(x):\n",
      "    try:\n",
      "        return json.loads(x)\n",
      "    except ValueError, e:\n",
      "        pass\n",
      "    return None;\n",
      "\n",
      "# Filter out records that couldn't be parsed\n",
      "dice_records = map(lambda r: load_json_save(r), dice_records)\n",
      "dice_records = filter(lambda r: r, dice_records)"
     ],
     "language": "python",
     "metadata": {},
     "outputs": [],
     "prompt_number": 5
    },
    {
     "cell_type": "code",
     "collapsed": false,
     "input": [
      "sum(1 for x in dice_records if \"data scientist\" in x[\"title\"].lower())"
     ],
     "language": "python",
     "metadata": {},
     "outputs": [
      {
       "metadata": {},
       "output_type": "pyout",
       "prompt_number": 27,
       "text": [
        "116"
       ]
      }
     ],
     "prompt_number": 27
    },
    {
     "cell_type": "code",
     "collapsed": false,
     "input": [],
     "language": "python",
     "metadata": {},
     "outputs": []
    }
   ],
   "metadata": {}
  }
 ]
}